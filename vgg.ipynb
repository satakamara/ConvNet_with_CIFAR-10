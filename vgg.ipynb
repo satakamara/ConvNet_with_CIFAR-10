{
 "cells": [
  {
   "cell_type": "markdown",
   "metadata": {},
   "source": [
    "# VGG network"
   ]
  },
  {
   "cell_type": "markdown",
   "metadata": {},
   "source": [
    "### Import needed libraries"
   ]
  },
  {
   "cell_type": "code",
   "execution_count": 1,
   "metadata": {},
   "outputs": [],
   "source": [
    "import numpy as np # linear algebra\n",
    "import pandas as pd # data processing, CSV file I/O (e.g. pd.read_csv)\n",
    "import os\n",
    "# Simple CNN model for CIFAR-10\n",
    "from keras.datasets import cifar10\n",
    "from keras.models import Sequential\n",
    "from keras.layers import Dense\n",
    "from keras.layers import Dropout\n",
    "from keras.layers import Flatten\n",
    "from keras.layers import concatenate\n",
    "from keras.constraints import maxnorm\n",
    "from keras.optimizers import SGD\n",
    "from keras.layers.convolutional import Conv2D\n",
    "from keras.layers.convolutional import MaxPooling2D\n",
    "from keras.utils import np_utils\n",
    "from keras import backend as K\n",
    "\n",
    "\n",
    "from keras.models import Model\n",
    "from keras.layers import Input, Dense\n",
    "\n",
    "from keras.models import load_model\n",
    "import tensorflow as tf\n",
    "\n",
    "from keras.applications import resnet50\n",
    "\n",
    "from pathlib import Path\n",
    "\n",
    "import matplotlib.pyplot as plt\n",
    "\n",
    "import load_data"
   ]
  },
  {
   "cell_type": "markdown",
   "metadata": {},
   "source": [
    "### Create variables to save net weights and loss and accuracy images"
   ]
  },
  {
   "cell_type": "code",
   "execution_count": 2,
   "metadata": {},
   "outputs": [],
   "source": [
    "weights_path = './weights_2.h5'\n",
    "loss_img_name = 'loss_2.png'\n",
    "accuracy_img_name = 'accuracy_2.png'"
   ]
  },
  {
   "cell_type": "markdown",
   "metadata": {},
   "source": [
    "### File with the parameters of the network"
   ]
  },
  {
   "cell_type": "code",
   "execution_count": 3,
   "metadata": {},
   "outputs": [],
   "source": [
    "weights_file = Path(weights_path)"
   ]
  },
  {
   "cell_type": "markdown",
   "metadata": {},
   "source": [
    "### Fix random seed for reproducibility"
   ]
  },
  {
   "cell_type": "code",
   "execution_count": 4,
   "metadata": {},
   "outputs": [],
   "source": [
    "seed = 7\n",
    "np.random.seed(seed)"
   ]
  },
  {
   "cell_type": "markdown",
   "metadata": {},
   "source": [
    "### Don't be greedy on GPU RAM"
   ]
  },
  {
   "cell_type": "code",
   "execution_count": 5,
   "metadata": {},
   "outputs": [],
   "source": [
    "config = tf.compat.v1.ConfigProto()\n",
    "## ask for GPU memory gracefully\n",
    "config.gpu_options.allow_growth = True\n",
    "\n",
    "sess = tf.compat.v1.Session(config=config)\n",
    "\n",
    "tf.compat.v1.keras.backend.set_session(sess)"
   ]
  },
  {
   "cell_type": "markdown",
   "metadata": {},
   "source": [
    "### Load data and prepare it for the training process"
   ]
  },
  {
   "cell_type": "code",
   "execution_count": 39,
   "metadata": {},
   "outputs": [
    {
     "name": "stdout",
     "output_type": "stream",
     "text": [
      "cifar10\n",
      "num_training_samples:  (10000, 32, 32, 3)\n"
     ]
    }
   ],
   "source": [
    "#data_path = \"./cifar_10/\"\n",
    "\n",
    "num_img_train = 10000 # Max_value= 50000\n",
    "\n",
    "(X_train, y_train), (X_test, y_test) = load_data.load_data(num_img_train)\n",
    "\n",
    "# normalize inputs from 0-255 to 0.0-1.0\n",
    "X_train = X_train.astype('float32')\n",
    "X_test = X_test.astype('float32')\n",
    "X_train = X_train / 255.0\n",
    "X_test = X_test / 255.0\n",
    "\n",
    "# one hot encode outputs\n",
    "y_train = np_utils.to_categorical(y_train)\n",
    "y_test = np_utils.to_categorical(y_test)\n",
    "num_classes = y_test.shape[1]\n",
    "\n",
    "print(\"num_training_samples: \", X_train.shape)"
   ]
  },
  {
   "cell_type": "markdown",
   "metadata": {},
   "source": [
    "### Create network model"
   ]
  },
  {
   "cell_type": "code",
   "execution_count": 40,
   "metadata": {},
   "outputs": [],
   "source": [
    "#  dropout rate for FC layers\n",
    "dropout=0.5\n",
    "\n",
    "# CNN architecture\n",
    "\n",
    "input_image = Input(shape=(32,32,3))\n",
    "x1 = Conv2D(64, (3, 3),padding='same', activation='relu')(input_image)\n",
    "x1 = Conv2D(64, (3, 3),padding='same', activation='relu')(x1)\n",
    "x1 = MaxPooling2D((2, 2))(x1)\n",
    "\n",
    "#Code added\n",
    "x1 = Conv2D(128, (3, 3),padding='same', activation='relu')(x1)\n",
    "x1 = Conv2D(128, (3, 3),padding='same', activation='relu')(x1)\n",
    "x1 = MaxPooling2D((2, 2))(x1)\n",
    "\n",
    "x1 = Conv2D(256, (3, 3),padding='same', activation='relu')(x1)\n",
    "x1 = Conv2D(256, (3, 3),padding='same', activation='relu')(x1)\n",
    "x1 = Conv2D(256, (1, 1),padding='same', activation='relu')(x1)\n",
    "x1 = MaxPooling2D((2, 2))(x1)\n",
    "\n",
    "x1 = Conv2D(512, (3, 3),padding='same', activation='relu')(x1)\n",
    "x1 = Conv2D(512, (3, 3),padding='same', activation='relu')(x1)\n",
    "x1 = Conv2D(512, (1, 1),padding='same', activation='relu')(x1)\n",
    "x1 = MaxPooling2D((2, 2))(x1)\n",
    "\n",
    "x1 = Conv2D(512, (3, 3),padding='same', activation='relu')(x1)\n",
    "x1 = Conv2D(512, (3, 3),padding='same', activation='relu')(x1)\n",
    "x1 = Conv2D(512, (1, 1),padding='same', activation='relu')(x1)\n",
    "x1 = MaxPooling2D((2, 2))(x1)\n",
    "#End code added\n",
    "\n",
    "x1 = Flatten()(x1)\n",
    "\n",
    "#Modified/added code\n",
    "x=Dense(4096, activation='relu', kernel_constraint=maxnorm(3))(x1)\n",
    "x=Dense(4096, activation='relu', kernel_constraint=maxnorm(3))(x)\n",
    "#End modified/added code\n",
    "\n",
    "x=Dropout(dropout)(x)\n",
    "\n",
    "out= Dense(num_classes, activation='softmax')(x)\n",
    "\n",
    "model = Model(inputs = input_image, outputs = out);\n",
    "\n",
    "#Load parameters\n",
    "if weights_file.is_file():\n",
    "\tmodel.load_weights(weights_path)"
   ]
  },
  {
   "cell_type": "markdown",
   "metadata": {},
   "source": [
    "### Initialize training parameters"
   ]
  },
  {
   "cell_type": "code",
   "execution_count": 41,
   "metadata": {},
   "outputs": [
    {
     "name": "stdout",
     "output_type": "stream",
     "text": [
      "Model: \"functional_9\"\n",
      "_________________________________________________________________\n",
      "Layer (type)                 Output Shape              Param #   \n",
      "=================================================================\n",
      "input_5 (InputLayer)         [(None, 32, 32, 3)]       0         \n",
      "_________________________________________________________________\n",
      "conv2d_41 (Conv2D)           (None, 32, 32, 64)        1792      \n",
      "_________________________________________________________________\n",
      "conv2d_42 (Conv2D)           (None, 32, 32, 64)        36928     \n",
      "_________________________________________________________________\n",
      "max_pooling2d_16 (MaxPooling (None, 16, 16, 64)        0         \n",
      "_________________________________________________________________\n",
      "conv2d_43 (Conv2D)           (None, 16, 16, 128)       73856     \n",
      "_________________________________________________________________\n",
      "conv2d_44 (Conv2D)           (None, 16, 16, 128)       147584    \n",
      "_________________________________________________________________\n",
      "max_pooling2d_17 (MaxPooling (None, 8, 8, 128)         0         \n",
      "_________________________________________________________________\n",
      "conv2d_45 (Conv2D)           (None, 8, 8, 256)         295168    \n",
      "_________________________________________________________________\n",
      "conv2d_46 (Conv2D)           (None, 8, 8, 256)         590080    \n",
      "_________________________________________________________________\n",
      "conv2d_47 (Conv2D)           (None, 8, 8, 256)         65792     \n",
      "_________________________________________________________________\n",
      "max_pooling2d_18 (MaxPooling (None, 4, 4, 256)         0         \n",
      "_________________________________________________________________\n",
      "conv2d_48 (Conv2D)           (None, 4, 4, 512)         1180160   \n",
      "_________________________________________________________________\n",
      "conv2d_49 (Conv2D)           (None, 4, 4, 512)         2359808   \n",
      "_________________________________________________________________\n",
      "conv2d_50 (Conv2D)           (None, 4, 4, 512)         262656    \n",
      "_________________________________________________________________\n",
      "max_pooling2d_19 (MaxPooling (None, 2, 2, 512)         0         \n",
      "_________________________________________________________________\n",
      "conv2d_51 (Conv2D)           (None, 2, 2, 512)         2359808   \n",
      "_________________________________________________________________\n",
      "conv2d_52 (Conv2D)           (None, 2, 2, 512)         2359808   \n",
      "_________________________________________________________________\n",
      "conv2d_53 (Conv2D)           (None, 2, 2, 512)         262656    \n",
      "_________________________________________________________________\n",
      "max_pooling2d_20 (MaxPooling (None, 1, 1, 512)         0         \n",
      "_________________________________________________________________\n",
      "flatten_4 (Flatten)          (None, 512)               0         \n",
      "_________________________________________________________________\n",
      "dense_11 (Dense)             (None, 4096)              2101248   \n",
      "_________________________________________________________________\n",
      "dense_12 (Dense)             (None, 4096)              16781312  \n",
      "_________________________________________________________________\n",
      "dropout_4 (Dropout)          (None, 4096)              0         \n",
      "_________________________________________________________________\n",
      "dense_13 (Dense)             (None, 10)                40970     \n",
      "=================================================================\n",
      "Total params: 28,919,626\n",
      "Trainable params: 28,919,626\n",
      "Non-trainable params: 0\n",
      "_________________________________________________________________\n",
      "None\n"
     ]
    }
   ],
   "source": [
    "epochs = 20\n",
    "lrate = 0.001\n",
    "decay = 0\n",
    "sgd = SGD(lr=lrate, momentum=0.9, decay=decay, nesterov=False)\n",
    "model.compile(loss='categorical_crossentropy', optimizer=sgd, metrics=['accuracy'])\n",
    "print(model.summary())"
   ]
  },
  {
   "cell_type": "markdown",
   "metadata": {},
   "source": [
    "### Fit the model"
   ]
  },
  {
   "cell_type": "code",
   "execution_count": 42,
   "metadata": {},
   "outputs": [
    {
     "name": "stdout",
     "output_type": "stream",
     "text": [
      "Epoch 1/20\n",
      "157/157 [==============================] - 4649s 30s/step - loss: 2.3028 - accuracy: 0.0977 - val_loss: 2.3026 - val_accuracy: 0.1000\n",
      "Epoch 2/20\n",
      "157/157 [==============================] - 3077s 20s/step - loss: 2.3025 - accuracy: 0.1004 - val_loss: 2.3026 - val_accuracy: 0.1000\n",
      "Epoch 3/20\n",
      "157/157 [==============================] - 2355s 15s/step - loss: 2.3024 - accuracy: 0.1032 - val_loss: 2.3026 - val_accuracy: 0.1000\n",
      "Epoch 4/20\n",
      "157/157 [==============================] - 2466s 16s/step - loss: 2.3022 - accuracy: 0.1032 - val_loss: 2.3026 - val_accuracy: 0.1000\n",
      "Epoch 5/20\n",
      "157/157 [==============================] - 2441s 16s/step - loss: 2.3022 - accuracy: 0.1035 - val_loss: 2.3026 - val_accuracy: 0.1000\n",
      "Epoch 6/20\n",
      "157/157 [==============================] - 3479s 22s/step - loss: 2.3021 - accuracy: 0.1033 - val_loss: 2.3026 - val_accuracy: 0.1000\n",
      "Epoch 7/20\n",
      "157/157 [==============================] - 2955s 19s/step - loss: 2.3020 - accuracy: 0.1020 - val_loss: 2.3026 - val_accuracy: 0.1000\n",
      "Epoch 8/20\n",
      "157/157 [==============================] - 2763s 18s/step - loss: 2.3020 - accuracy: 0.1045 - val_loss: 2.3025 - val_accuracy: 0.1000\n",
      "Epoch 9/20\n",
      "157/157 [==============================] - 2496s 16s/step - loss: 2.3019 - accuracy: 0.1060 - val_loss: 2.3024 - val_accuracy: 0.1000\n",
      "Epoch 10/20\n",
      "157/157 [==============================] - 2986s 19s/step - loss: 2.3019 - accuracy: 0.1114 - val_loss: 2.3024 - val_accuracy: 0.1000\n",
      "Epoch 11/20\n",
      "157/157 [==============================] - 3004s 19s/step - loss: 2.3017 - accuracy: 0.1078 - val_loss: 2.3023 - val_accuracy: 0.1000\n",
      "Epoch 12/20\n",
      "157/157 [==============================] - 2471s 16s/step - loss: 2.3016 - accuracy: 0.1053 - val_loss: 2.3022 - val_accuracy: 0.1000\n",
      "Epoch 13/20\n",
      "157/157 [==============================] - 2500s 16s/step - loss: 2.3015 - accuracy: 0.1052 - val_loss: 2.3021 - val_accuracy: 0.1173\n",
      "Epoch 14/20\n",
      "157/157 [==============================] - 2467s 16s/step - loss: 2.3013 - accuracy: 0.1367 - val_loss: 2.3018 - val_accuracy: 0.1313\n",
      "Epoch 15/20\n",
      "157/157 [==============================] - 2882s 18s/step - loss: 2.3011 - accuracy: 0.1144 - val_loss: 2.3016 - val_accuracy: 0.1192\n",
      "Epoch 16/20\n",
      "157/157 [==============================] - 2903s 18s/step - loss: 2.3007 - accuracy: 0.1302 - val_loss: 2.3012 - val_accuracy: 0.1430\n",
      "Epoch 17/20\n",
      "157/157 [==============================] - 2939s 19s/step - loss: 2.3003 - accuracy: 0.1571 - val_loss: 2.3006 - val_accuracy: 0.1527\n",
      "Epoch 18/20\n",
      "157/157 [==============================] - 2842s 18s/step - loss: 2.2995 - accuracy: 0.1409 - val_loss: 2.2998 - val_accuracy: 0.1553\n",
      "Epoch 19/20\n",
      "157/157 [==============================] - 2847s 18s/step - loss: 2.2986 - accuracy: 0.1445 - val_loss: 2.2986 - val_accuracy: 0.1691\n",
      "Epoch 20/20\n",
      "157/157 [==============================] - 2776s 18s/step - loss: 2.2971 - accuracy: 0.1725 - val_loss: 2.2967 - val_accuracy: 0.1737\n"
     ]
    }
   ],
   "source": [
    "history = model.fit(X_train, y_train, validation_data=(X_test, y_test), epochs=epochs, batch_size=64)"
   ]
  },
  {
   "cell_type": "markdown",
   "metadata": {},
   "source": [
    "### Final evaluation of the model"
   ]
  },
  {
   "cell_type": "code",
   "execution_count": 43,
   "metadata": {},
   "outputs": [
    {
     "name": "stdout",
     "output_type": "stream",
     "text": [
      "Accuracy: 17.37%\n"
     ]
    }
   ],
   "source": [
    "scores = model.evaluate(X_test, y_test, verbose=0)\n",
    "print(\"Accuracy: %.2f%%\" % (scores[1]*100))"
   ]
  },
  {
   "cell_type": "markdown",
   "metadata": {},
   "source": [
    "### Plot history for accuracy for training and testing process"
   ]
  },
  {
   "cell_type": "code",
   "execution_count": 44,
   "metadata": {},
   "outputs": [
    {
     "data": {
      "image/png": "[encoded data removed]",
      "text/plain": [
       "<Figure size 432x288 with 1 Axes>"
      ]
     },
     "metadata": {
      "needs_background": "light"
     },
     "output_type": "display_data"
    }
   ],
   "source": [
    "plt.plot(history.history['accuracy'])\n",
    "plt.plot(history.history['val_accuracy'])\n",
    "plt.title('model accuracy')\n",
    "plt.ylabel('accuracy')\n",
    "plt.xlabel('epoch')\n",
    "plt.legend(['train', 'test'], loc='upper left')\n",
    "\n",
    "# Save the figure\n",
    "plt.savefig(accuracy_img_name)\n",
    "\n",
    "# Show figure\n",
    "plt.show()"
   ]
  },
  {
   "cell_type": "markdown",
   "metadata": {},
   "source": [
    "### Plot history for loss for training and testing process"
   ]
  },
  {
   "cell_type": "code",
   "execution_count": 45,
   "metadata": {},
   "outputs": [
    {
     "data": {
      "image/png": "[encoded data removed]",
      "text/plain": [
       "<Figure size 432x288 with 1 Axes>"
      ]
     },
     "metadata": {
      "needs_background": "light"
     },
     "output_type": "display_data"
    }
   ],
   "source": [
    "plt.plot(history.history['loss'])\n",
    "plt.plot(history.history['val_loss'])\n",
    "plt.title('model loss')\n",
    "plt.ylabel('loss')\n",
    "plt.xlabel('epoch')\n",
    "plt.legend(['train', 'test'], loc='upper left')\n",
    "\n",
    "# Save the figure\n",
    "plt.savefig(loss_img_name)\n",
    "\n",
    "# Show figure\n",
    "plt.show()"
   ]
  },
  {
   "cell_type": "markdown",
   "metadata": {},
   "source": [
    "### Save the weights to a file"
   ]
  },
  {
   "cell_type": "code",
   "execution_count": 46,
   "metadata": {},
   "outputs": [],
   "source": [
    "model.save_weights(weights_path)"
   ]
  },
  {
   "cell_type": "code",
   "execution_count": null,
   "metadata": {},
   "outputs": [],
   "source": []
  }
 ],
 "metadata": {
  "kernelspec": {
   "display_name": "Python 3",
   "language": "python",
   "name": "python3"
  },
  "language_info": {
   "codemirror_mode": {
    "name": "ipython",
    "version": 3
   },
   "file_extension": ".py",
   "mimetype": "text/x-python",
   "name": "python",
   "nbconvert_exporter": "python",
   "pygments_lexer": "ipython3",
   "version": "3.8.3"
  }
 },
 "nbformat": 4,
 "nbformat_minor": 4
}
